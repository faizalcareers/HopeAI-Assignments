{
 "cells": [
  {
   "cell_type": "code",
   "execution_count": 3,
   "id": "c4fe704f",
   "metadata": {},
   "outputs": [
    {
     "name": "stdout",
     "output_type": "stream",
     "text": [
      "Sub-fields in AI are:\n",
      "Machine Learning\n",
      "Neural Networks\n",
      "Vision\n",
      "Robotics\n",
      "Speech Processing\n",
      "Natural Language Processing\n"
     ]
    }
   ],
   "source": [
    "class SubfieldsinAI:\n",
    "    def SubFields():\n",
    "        print(\"Sub-fields in AI are:\")\n",
    "        print(\"Machine Learning\")\n",
    "        print(\"Neural Networks\")\n",
    "        print(\"Vision\")\n",
    "        print(\"Robotics\")\n",
    "        print(\"Speech Processing\")\n",
    "        print(\"Natural Language Processing\")\n",
    "\n",
    "\n",
    "SubfieldsinAI.SubFields()       "
   ]
  },
  {
   "cell_type": "code",
   "execution_count": 4,
   "id": "f1142f1e",
   "metadata": {},
   "outputs": [
    {
     "name": "stdout",
     "output_type": "stream",
     "text": [
      "Enter a even number5\n",
      "5  is odd number\n"
     ]
    }
   ],
   "source": [
    "class OddEven:\n",
    "    def OddEven():\n",
    "        a = int(input(\"Enter a even number\"))\n",
    "        if a%2 == 0:\n",
    "            print(a , \" is even number\")\n",
    "        else:\n",
    "            print(a, \" is odd number\")\n",
    "OddEven.OddEven()"
   ]
  },
  {
   "cell_type": "code",
   "execution_count": 9,
   "id": "620be20b",
   "metadata": {},
   "outputs": [
    {
     "name": "stdout",
     "output_type": "stream",
     "text": [
      "Your gender : Male\n",
      "Your age : 40\n",
      "Eligible\n"
     ]
    }
   ],
   "source": [
    "class ElegiblityForMarriage:\n",
    "    def Elegible():\n",
    "        gender = input(\"Your gender : \")        \n",
    "        age = int(input(\"Your age : \"))\n",
    "        \n",
    "        \n",
    "        if (gender == \"Male\" and age >= 21) or (gender == \"Female\" and age >= 18):\n",
    "            print(\"Eligible\")\n",
    "        elif (gender == \"Male\" and age < 21) or (gender == \"Female\" and age < 18):\n",
    "            print(\"Not Eligible\")\n",
    "        else:\n",
    "            print(\"incorrect input\")\n",
    "ElegiblityForMarriage.Elegible()"
   ]
  },
  {
   "cell_type": "code",
   "execution_count": 11,
   "id": "71f63220",
   "metadata": {},
   "outputs": [
    {
     "name": "stdout",
     "output_type": "stream",
     "text": [
      "Subject1  90\n",
      "Subject2  80\n",
      "Subject3  67\n",
      "Subject4  50\n",
      "Subject5  67\n",
      "Total :  354\n",
      "Percentage : 70.8\n"
     ]
    }
   ],
   "source": [
    "class FindPercent:\n",
    "    def Percentage():\n",
    "        s1 = int(input(\"Subject1  \"))\n",
    "        s2 = int(input(\"Subject2  \"))\n",
    "        s3 = int(input(\"Subject3  \"))\n",
    "        s4 = int(input(\"Subject4  \"))\n",
    "        s5 = int(input(\"Subject5  \"))\n",
    "        \n",
    "        total = s1+s2+s3+s4+s5\n",
    "        percentage = total/5\n",
    "        \n",
    "        print(\"Total : \",total)\n",
    "        print(\"Percentage :\" , percentage)\n",
    "FindPercent.Percentage()"
   ]
  },
  {
   "cell_type": "code",
   "execution_count": 13,
   "id": "4bdea509",
   "metadata": {},
   "outputs": [
    {
     "name": "stdout",
     "output_type": "stream",
     "text": [
      "Height: 12\n",
      "Breadth: 12\n",
      "Area formula: (Height*Breadth)/2\n",
      "Area of triangle =  72.0\n",
      "Height1: 12\n",
      "Height2: 12\n",
      "Breadth: 6\n",
      "Perimeter formula: Height1+ Height2 + Breadth\n",
      "Area oftri angle =  30\n"
     ]
    }
   ],
   "source": [
    "class triangle:\n",
    "    def area():\n",
    "        h = int(input(\"Height: \"))\n",
    "        b = int(input(\"Breadth: \"))\n",
    "        area = (h*b)/2\n",
    "        print(\"Area formula: (Height*Breadth)/2\")\n",
    "        print(\"Area of triangle = \" , area)\n",
    "    def perimeter():\n",
    "        h1 = int(input(\"Height1: \"))\n",
    "        h2 = int(input(\"Height2: \"))\n",
    "        b = int(input(\"Breadth: \"))        \n",
    "        perimeter = h1+h2+b\n",
    "        print(\"Perimeter formula: Height1+ Height2 + Breadth\")\n",
    "        print(\"Area oftri angle = \" , perimeter)\n",
    "        \n",
    "triangle.area()\n",
    "triangle.perimeter()\n",
    "        \n",
    "        \n",
    "        "
   ]
  },
  {
   "cell_type": "code",
   "execution_count": null,
   "id": "dadebd93",
   "metadata": {},
   "outputs": [],
   "source": []
  }
 ],
 "metadata": {
  "kernelspec": {
   "display_name": "Python 3 (ipykernel)",
   "language": "python",
   "name": "python3"
  },
  "language_info": {
   "codemirror_mode": {
    "name": "ipython",
    "version": 3
   },
   "file_extension": ".py",
   "mimetype": "text/x-python",
   "name": "python",
   "nbconvert_exporter": "python",
   "pygments_lexer": "ipython3",
   "version": "3.11.4"
  }
 },
 "nbformat": 4,
 "nbformat_minor": 5
}
