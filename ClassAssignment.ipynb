{
 "cells": [
  {
   "cell_type": "code",
   "execution_count": 7,
   "id": "a0e7c6ca",
   "metadata": {},
   "outputs": [
    {
     "name": "stdout",
     "output_type": "stream",
     "text": [
      "Height: 12\n",
      "Breadth: 12\n",
      "Area formula: (Height*Breadth)/2\n",
      "Area of triangle =  72.0\n",
      "Height1: 12\n",
      "Height2: 12\n",
      "Breadth: 12\n",
      "Perimeter formula: Height1+ Height2 + Breadth\n",
      "Area oftri angle =  36\n"
     ]
    }
   ],
   "source": [
    "from Assignment import Assignment\n",
    "Assignment.SubFields()\n",
    "Assignment.OddEven()\n",
    "Assignment.Elegible()\n",
    "Assignment.Percentage()\n",
    "Assignment.area()\n",
    "Assignment.perimeter()"
   ]
  },
  {
   "cell_type": "code",
   "execution_count": null,
   "id": "5e8e55d8",
   "metadata": {},
   "outputs": [],
   "source": []
  },
  {
   "cell_type": "code",
   "execution_count": null,
   "id": "4ee91b73",
   "metadata": {},
   "outputs": [],
   "source": []
  },
  {
   "cell_type": "code",
   "execution_count": null,
   "id": "1641f412",
   "metadata": {},
   "outputs": [],
   "source": []
  },
  {
   "cell_type": "code",
   "execution_count": null,
   "id": "400289fe",
   "metadata": {},
   "outputs": [],
   "source": []
  },
  {
   "cell_type": "code",
   "execution_count": null,
   "id": "a4f24b38",
   "metadata": {},
   "outputs": [],
   "source": []
  }
 ],
 "metadata": {
  "kernelspec": {
   "display_name": "Python 3 (ipykernel)",
   "language": "python",
   "name": "python3"
  },
  "language_info": {
   "codemirror_mode": {
    "name": "ipython",
    "version": 3
   },
   "file_extension": ".py",
   "mimetype": "text/x-python",
   "name": "python",
   "nbconvert_exporter": "python",
   "pygments_lexer": "ipython3",
   "version": "3.11.4"
  }
 },
 "nbformat": 4,
 "nbformat_minor": 5
}
