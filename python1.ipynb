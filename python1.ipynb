{
 "cells": [
  {
   "cell_type": "code",
   "execution_count": 1,
   "id": "003d2887",
   "metadata": {},
   "outputs": [
    {
     "name": "stdout",
     "output_type": "stream",
     "text": [
      "Welcome to Assignment-1\n"
     ]
    }
   ],
   "source": [
    "print(\"Welcome to Assignment-1\")"
   ]
  },
  {
   "cell_type": "code",
   "execution_count": 9,
   "id": "522d942f",
   "metadata": {},
   "outputs": [
    {
     "name": "stdout",
     "output_type": "stream",
     "text": [
      "Num1 =  10\n",
      "Num2 =  30\n",
      "Add =  40\n"
     ]
    }
   ],
   "source": [
    "Num1 = 10\n",
    "Num2 = 30\n",
    "Add = 50\n",
    "print(\"Num1 = \",Num1)\n",
    "print(\"Num2 = \",Num2)\n",
    "print(\"Add = \",Num1 + Num2)"
   ]
  },
  {
   "cell_type": "code",
   "execution_count": 6,
   "id": "15aed9ba",
   "metadata": {},
   "outputs": [],
   "source": [
    "#Enter the body mass index"
   ]
  },
  {
   "cell_type": "code",
   "execution_count": 24,
   "id": "15262a67",
   "metadata": {},
   "outputs": [
    {
     "name": "stdout",
     "output_type": "stream",
     "text": [
      "Enter your BMI: 32\n",
      "Normal\n"
     ]
    }
   ],
   "source": [
    "    bmi = int(input(\"Enter your BMI: \"))\n",
    "    if bmi < 0:\n",
    "         raise ValueError(\"BMI cannot be negative.\")            \n",
    "    elif bmi >= 0 and bmi <= 15:\n",
    "        print(\"Severe Thickness\")\n",
    "    elif bmi >= 16 and bmi <= 25:\n",
    "        print(\"Moderate Thickness\")\n",
    "    elif bmi >= 25 and bmi <= 35:\n",
    "        print(\"Normal\")\n",
    "    elif bmi >= 36 and bmi <= 45:\n",
    "        print(\"Overweight\")\n",
    "    elif bmi >= 46 and bmi <= 55:\n",
    "        print(\"Obese Class II\")\n",
    "    elif bmi >= 56:\n",
    "        print(\"Obese Class III\")\n",
    "    else:\n",
    "        print(\"BMI not in range\")\n",
    "    \n"
   ]
  },
  {
   "cell_type": "code",
   "execution_count": 25,
   "id": "291b90fa",
   "metadata": {},
   "outputs": [
    {
     "name": "stdout",
     "output_type": "stream",
     "text": [
      "The notebook is located at: C:\\Users\\lenovo\\HopeAIScripts\\HopeAIScripts/python1.ipynb\n"
     ]
    }
   ],
   "source": [
    "import os\n",
    "\n",
    "# Get the current working directory\n",
    "current_dir = os.getcwd()\n",
    "\n",
    "# Relative path of the notebook from the URL\n",
    "relative_path = 'HopeAIScripts/python1.ipynb'\n",
    "\n",
    "# Combine to get the absolute path\n",
    "absolute_path = os.path.join(current_dir, relative_path)\n",
    "\n",
    "print(f\"The notebook is located at: {absolute_path}\")\n"
   ]
  },
  {
   "cell_type": "code",
   "execution_count": null,
   "id": "f1da97b2",
   "metadata": {},
   "outputs": [],
   "source": []
  }
 ],
 "metadata": {
  "kernelspec": {
   "display_name": "Python 3 (ipykernel)",
   "language": "python",
   "name": "python3"
  },
  "language_info": {
   "codemirror_mode": {
    "name": "ipython",
    "version": 3
   },
   "file_extension": ".py",
   "mimetype": "text/x-python",
   "name": "python",
   "nbconvert_exporter": "python",
   "pygments_lexer": "ipython3",
   "version": "3.11.4"
  }
 },
 "nbformat": 4,
 "nbformat_minor": 5
}
